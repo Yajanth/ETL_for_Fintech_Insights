{
 "cells": [
  {
   "cell_type": "code",
   "execution_count": 2,
   "metadata": {},
   "outputs": [
    {
     "name": "stdout",
     "output_type": "stream",
     "text": [
      "files: 006e6aff61084bb6ba60ecd9b83a5280.csv_T.csv\n"
     ]
    },
    {
     "name": "stderr",
     "output_type": "stream",
     "text": [
      "C:\\Users\\91944\\AppData\\Local\\Temp\\ipykernel_12264\\1134711928.py:27: FutureWarning: The frame.append method is deprecated and will be removed from pandas in a future version. Use pandas.concat instead.\n",
      "  df = df.append([df,df_temp])\n",
      "C:\\Users\\91944\\AppData\\Local\\Temp\\ipykernel_12264\\1134711928.py:27: FutureWarning: The frame.append method is deprecated and will be removed from pandas in a future version. Use pandas.concat instead.\n",
      "  df = df.append([df,df_temp])\n"
     ]
    },
    {
     "name": "stdout",
     "output_type": "stream",
     "text": [
      "files: 05c46a45f4e44ff3a520c5c79bbf0ef2.csv_T.csv\n",
      "files: 071758ef8b2b4ff68774bcf782214779.csv_T.csv\n"
     ]
    },
    {
     "name": "stderr",
     "output_type": "stream",
     "text": [
      "C:\\Users\\91944\\AppData\\Local\\Temp\\ipykernel_12264\\1134711928.py:27: FutureWarning: The frame.append method is deprecated and will be removed from pandas in a future version. Use pandas.concat instead.\n",
      "  df = df.append([df,df_temp])\n"
     ]
    },
    {
     "name": "stdout",
     "output_type": "stream",
     "text": [
      "files: 071aa6954a6e4bb9a1096e9da1329967.csv_T.csv\n"
     ]
    },
    {
     "name": "stderr",
     "output_type": "stream",
     "text": [
      "C:\\Users\\91944\\AppData\\Local\\Temp\\ipykernel_12264\\1134711928.py:27: FutureWarning: The frame.append method is deprecated and will be removed from pandas in a future version. Use pandas.concat instead.\n",
      "  df = df.append([df,df_temp])\n"
     ]
    },
    {
     "name": "stdout",
     "output_type": "stream",
     "text": [
      "files: 080e668f1e5743768269b41ca9c39cc6.csv_T.csv\n"
     ]
    },
    {
     "name": "stderr",
     "output_type": "stream",
     "text": [
      "C:\\Users\\91944\\AppData\\Local\\Temp\\ipykernel_12264\\1134711928.py:27: FutureWarning: The frame.append method is deprecated and will be removed from pandas in a future version. Use pandas.concat instead.\n",
      "  df = df.append([df,df_temp])\n",
      "C:\\Users\\91944\\AppData\\Local\\Temp\\ipykernel_12264\\1134711928.py:27: FutureWarning: The frame.append method is deprecated and will be removed from pandas in a future version. Use pandas.concat instead.\n",
      "  df = df.append([df,df_temp])\n"
     ]
    },
    {
     "name": "stdout",
     "output_type": "stream",
     "text": [
      "files: 09845bfe1c4c4d669a6209966a0ddf81.csv_T.csv\n",
      "files: 0a94d18df6264ea0b54568340c898da8.csv_T.csv\n"
     ]
    },
    {
     "name": "stderr",
     "output_type": "stream",
     "text": [
      "C:\\Users\\91944\\AppData\\Local\\Temp\\ipykernel_12264\\1134711928.py:27: FutureWarning: The frame.append method is deprecated and will be removed from pandas in a future version. Use pandas.concat instead.\n",
      "  df = df.append([df,df_temp])\n"
     ]
    },
    {
     "name": "stdout",
     "output_type": "stream",
     "text": [
      "files: 0ac5dd522cc04ee38aba45ead26bcb4a.csv_T.csv\n"
     ]
    },
    {
     "name": "stderr",
     "output_type": "stream",
     "text": [
      "C:\\Users\\91944\\AppData\\Local\\Temp\\ipykernel_12264\\1134711928.py:27: FutureWarning: The frame.append method is deprecated and will be removed from pandas in a future version. Use pandas.concat instead.\n",
      "  df = df.append([df,df_temp])\n"
     ]
    },
    {
     "name": "stdout",
     "output_type": "stream",
     "text": [
      "files: 0bd2c05487d44b58b134cedd3d182d10.csv_T.csv\n"
     ]
    },
    {
     "name": "stderr",
     "output_type": "stream",
     "text": [
      "C:\\Users\\91944\\AppData\\Local\\Temp\\ipykernel_12264\\1134711928.py:27: FutureWarning: The frame.append method is deprecated and will be removed from pandas in a future version. Use pandas.concat instead.\n",
      "  df = df.append([df,df_temp])\n"
     ]
    },
    {
     "name": "stdout",
     "output_type": "stream",
     "text": [
      "files: 0d680b3342d44591a8977cee09703966.csv_T.csv\n"
     ]
    },
    {
     "name": "stderr",
     "output_type": "stream",
     "text": [
      "C:\\Users\\91944\\AppData\\Local\\Temp\\ipykernel_12264\\1134711928.py:27: FutureWarning: The frame.append method is deprecated and will be removed from pandas in a future version. Use pandas.concat instead.\n",
      "  df = df.append([df,df_temp])\n"
     ]
    },
    {
     "name": "stdout",
     "output_type": "stream",
     "text": [
      "files: 11d4b3983f854e5e813cfe105a17c02c.csv_T.csv\n"
     ]
    },
    {
     "name": "stderr",
     "output_type": "stream",
     "text": [
      "C:\\Users\\91944\\AppData\\Local\\Temp\\ipykernel_12264\\1134711928.py:27: FutureWarning: The frame.append method is deprecated and will be removed from pandas in a future version. Use pandas.concat instead.\n",
      "  df = df.append([df,df_temp])\n"
     ]
    },
    {
     "name": "stdout",
     "output_type": "stream",
     "text": [
      "files: 11f358d254d04031b416bf6c07f85e36.csv_T.csv\n"
     ]
    },
    {
     "name": "stderr",
     "output_type": "stream",
     "text": [
      "C:\\Users\\91944\\AppData\\Local\\Temp\\ipykernel_12264\\1134711928.py:27: FutureWarning: The frame.append method is deprecated and will be removed from pandas in a future version. Use pandas.concat instead.\n",
      "  df = df.append([df,df_temp])\n"
     ]
    },
    {
     "name": "stdout",
     "output_type": "stream",
     "text": [
      "files: 133dd8f244b34a6da20872b1030c51fb.csv_T.csv\n"
     ]
    },
    {
     "name": "stderr",
     "output_type": "stream",
     "text": [
      "C:\\Users\\91944\\AppData\\Local\\Temp\\ipykernel_12264\\1134711928.py:27: FutureWarning: The frame.append method is deprecated and will be removed from pandas in a future version. Use pandas.concat instead.\n",
      "  df = df.append([df,df_temp])\n"
     ]
    },
    {
     "name": "stdout",
     "output_type": "stream",
     "text": [
      "files: 19a67de65fad436b93e4d608422b7fdf.csv_T.csv\n"
     ]
    },
    {
     "name": "stderr",
     "output_type": "stream",
     "text": [
      "C:\\Users\\91944\\AppData\\Local\\Temp\\ipykernel_12264\\1134711928.py:27: FutureWarning: The frame.append method is deprecated and will be removed from pandas in a future version. Use pandas.concat instead.\n",
      "  df = df.append([df,df_temp])\n"
     ]
    },
    {
     "name": "stdout",
     "output_type": "stream",
     "text": [
      "files: 1a76a9dd2d584f4c8b7aeaba4e37158c.csv_T.csv\n"
     ]
    },
    {
     "name": "stderr",
     "output_type": "stream",
     "text": [
      "C:\\Users\\91944\\AppData\\Local\\Temp\\ipykernel_12264\\1134711928.py:27: FutureWarning: The frame.append method is deprecated and will be removed from pandas in a future version. Use pandas.concat instead.\n",
      "  df = df.append([df,df_temp])\n"
     ]
    },
    {
     "name": "stdout",
     "output_type": "stream",
     "text": [
      "files: 1ea0378931474a39a85e22f4ca128689.csv_T.csv\n"
     ]
    },
    {
     "name": "stderr",
     "output_type": "stream",
     "text": [
      "C:\\Users\\91944\\AppData\\Local\\Temp\\ipykernel_12264\\1134711928.py:27: FutureWarning: The frame.append method is deprecated and will be removed from pandas in a future version. Use pandas.concat instead.\n",
      "  df = df.append([df,df_temp])\n"
     ]
    },
    {
     "name": "stdout",
     "output_type": "stream",
     "text": [
      "files: 234a3bebd519494182636fbbedc6cc46.csv_T.csv\n"
     ]
    },
    {
     "name": "stderr",
     "output_type": "stream",
     "text": [
      "C:\\Users\\91944\\AppData\\Local\\Temp\\ipykernel_12264\\1134711928.py:27: FutureWarning: The frame.append method is deprecated and will be removed from pandas in a future version. Use pandas.concat instead.\n",
      "  df = df.append([df,df_temp])\n"
     ]
    },
    {
     "name": "stdout",
     "output_type": "stream",
     "text": [
      "files: 249898f036284be5888ab28f7c872382.csv_T.csv\n"
     ]
    },
    {
     "name": "stderr",
     "output_type": "stream",
     "text": [
      "C:\\Users\\91944\\AppData\\Local\\Temp\\ipykernel_12264\\1134711928.py:27: FutureWarning: The frame.append method is deprecated and will be removed from pandas in a future version. Use pandas.concat instead.\n",
      "  df = df.append([df,df_temp])\n"
     ]
    }
   ],
   "source": [
    "# Import necessary packages\n",
    "import pandas as pd\n",
    "import os\n",
    "import warnings\n",
    "\n",
    "def fxn():\n",
    "    warnings.warn(\"deprecated\", DeprecationWarning)\n",
    "\n",
    "with warnings.catch_warnings():\n",
    "    warnings.simplefilter(\"ignore\")\n",
    "    fxn()\n",
    "# Navigate to the folder where your CSV files are \n",
    "# os.\n",
    "# chdir('E:\\data science\\Data Engneering\\ProFintech\\MODULE 1\\raw_data\\Individual_files')\n",
    "# E:\\data science\\Data Engneering\\ProFintech\\MODULE 1\\raw_data\\Individual_files\n",
    "path='E:\\\\data science\\\\Data Engneering\\\\ProFintech\\MODULE 1\\\\transformed_data'\n",
    "# Create an empty dataframe\n",
    "df = pd.DataFrame()\n",
    "\n",
    "# os.listdir(path)\n",
    "indiFiles = os.listdir(path)\n",
    "# for x in indiFiles:\n",
    "#   print(x)\n",
    "# files = [f for f in indiFiles if os.path.isfile(Direc+'/'+f)] #Filtering only the files.\n",
    "# print(*files, sep=\"\\n\")\n",
    "\n",
    "# Read all CSV files and append them to df\n",
    "for files in indiFiles:\n",
    "  try:\n",
    "    #  for name in files:\n",
    "      #  print(name)\n",
    "   print(\"files:\",files)\n",
    "   df_temp = pd.read_csv(files,encoding='utf-8')\n",
    "   df = df.append([df,df_temp])\n",
    "  except:\n",
    "    pass\n",
    "# Save df to a CSV file\n",
    "df.to_csv('Consolidated_mod1.csv')"
   ]
  },
  {
   "cell_type": "code",
   "execution_count": 6,
   "metadata": {},
   "outputs": [
    {
     "name": "stderr",
     "output_type": "stream",
     "text": [
      "C:\\Users\\91944\\AppData\\Local\\Temp\\ipykernel_22828\\1818256743.py:3: FutureWarning: The frame.append method is deprecated and will be removed from pandas in a future version. Use pandas.concat instead.\n",
      "  df1=df1.append([df])\n"
     ]
    }
   ],
   "source": [
    "df1=pd.read_csv('ArunachalPradesh1.csv')\n",
    "df=pd.read_csv('AndamanandNicobarIslands.csv')\n",
    "df1=df1.append([df])"
   ]
  }
 ],
 "metadata": {
  "kernelspec": {
   "display_name": "Python 3",
   "language": "python",
   "name": "python3"
  },
  "language_info": {
   "codemirror_mode": {
    "name": "ipython",
    "version": 3
   },
   "file_extension": ".py",
   "mimetype": "text/x-python",
   "name": "python",
   "nbconvert_exporter": "python",
   "pygments_lexer": "ipython3",
   "version": "3.10.9 (tags/v3.10.9:1dd9be6, Dec  6 2022, 20:01:21) [MSC v.1934 64 bit (AMD64)]"
  },
  "orig_nbformat": 4,
  "vscode": {
   "interpreter": {
    "hash": "26de051ba29f2982a8de78e945f0abaf191376122a1563185a90213a26c5da77"
   }
  }
 },
 "nbformat": 4,
 "nbformat_minor": 2
}
